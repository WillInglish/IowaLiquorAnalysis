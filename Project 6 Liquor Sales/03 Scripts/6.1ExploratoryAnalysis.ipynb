{
 "cells": [
  {
   "cell_type": "markdown",
   "id": "cc600c66-5c31-4b6c-807b-34860e3515fc",
   "metadata": {
    "tags": []
   },
   "source": [
    "# 01. Importing Data"
   ]
  },
  {
   "cell_type": "code",
   "execution_count": 1,
   "id": "734a02ec-1910-4407-a7dd-dd8fae0143b1",
   "metadata": {},
   "outputs": [],
   "source": [
    "# This file is exploring the new data set for Iowas Liquor Sales."
   ]
  },
  {
   "cell_type": "code",
   "execution_count": 2,
   "id": "77e5933e-3827-448e-9f32-809f998db88c",
   "metadata": {},
   "outputs": [],
   "source": [
    "#Importing libraries\n",
    "import pandas as pd\n",
    "import numpy as np\n",
    "import os"
   ]
  },
  {
   "cell_type": "code",
   "execution_count": 3,
   "id": "c75413c0-e3b0-4049-82d8-e36a0b25077c",
   "metadata": {},
   "outputs": [],
   "source": [
    "path = r'C:\\Users\\William Inglish\\Project 6 Liquor Sales'\n",
    "\n",
    "df_sales = pd.read_csv(os.path.join(path,'02 Data', 'Original', 'IowaLiquorSales.csv'), index_col=False)"
   ]
  },
  {
   "cell_type": "markdown",
   "id": "4786013e-55b5-44dd-a011-987852b13f92",
   "metadata": {
    "tags": []
   },
   "source": [
    "## Exploring Data"
   ]
  },
  {
   "cell_type": "code",
   "execution_count": 4,
   "id": "608ccdb6-a7f1-4990-b2e1-48ed81236130",
   "metadata": {},
   "outputs": [
    {
     "data": {
      "text/html": [
       "<div>\n",
       "<style scoped>\n",
       "    .dataframe tbody tr th:only-of-type {\n",
       "        vertical-align: middle;\n",
       "    }\n",
       "\n",
       "    .dataframe tbody tr th {\n",
       "        vertical-align: top;\n",
       "    }\n",
       "\n",
       "    .dataframe thead th {\n",
       "        text-align: right;\n",
       "    }\n",
       "</style>\n",
       "<table border=\"1\" class=\"dataframe\">\n",
       "  <thead>\n",
       "    <tr style=\"text-align: right;\">\n",
       "      <th></th>\n",
       "      <th>invoice_and_item_number</th>\n",
       "      <th>date</th>\n",
       "      <th>store_number</th>\n",
       "      <th>store_name</th>\n",
       "      <th>address</th>\n",
       "      <th>city</th>\n",
       "      <th>zip_code</th>\n",
       "      <th>store_location</th>\n",
       "      <th>county_number</th>\n",
       "      <th>county</th>\n",
       "      <th>...</th>\n",
       "      <th>item_number</th>\n",
       "      <th>item_description</th>\n",
       "      <th>pack</th>\n",
       "      <th>bottle_volume_ml</th>\n",
       "      <th>state_bottle_cost</th>\n",
       "      <th>state_bottle_retail</th>\n",
       "      <th>bottles_sold</th>\n",
       "      <th>sale_dollars</th>\n",
       "      <th>volume_sold_liters</th>\n",
       "      <th>volume_sold_gallons</th>\n",
       "    </tr>\n",
       "  </thead>\n",
       "  <tbody>\n",
       "    <tr>\n",
       "      <th>0</th>\n",
       "      <td>INV-33179700135</td>\n",
       "      <td>2021-01-04</td>\n",
       "      <td>2576</td>\n",
       "      <td>Hy-Vee Wine and Spirits / Storm Lake</td>\n",
       "      <td>1250 N Lake St</td>\n",
       "      <td>Storm Lake</td>\n",
       "      <td>50588.0</td>\n",
       "      <td>POINT (-95.200758 42.65318400000001)</td>\n",
       "      <td>11.0</td>\n",
       "      <td>BUENA VIST</td>\n",
       "      <td>...</td>\n",
       "      <td>64870</td>\n",
       "      <td>Fireball Cinnamon Whiskey</td>\n",
       "      <td>48</td>\n",
       "      <td>100</td>\n",
       "      <td>0.90</td>\n",
       "      <td>1.35</td>\n",
       "      <td>48</td>\n",
       "      <td>64.80</td>\n",
       "      <td>4.8</td>\n",
       "      <td>1.26</td>\n",
       "    </tr>\n",
       "    <tr>\n",
       "      <th>1</th>\n",
       "      <td>INV-33196200106</td>\n",
       "      <td>2021-01-04</td>\n",
       "      <td>2649</td>\n",
       "      <td>Hy-Vee #3 / Dubuque</td>\n",
       "      <td>400 Locust St</td>\n",
       "      <td>Dubuque</td>\n",
       "      <td>52001.0</td>\n",
       "      <td>POINT (-90.666497 42.49721900000001)</td>\n",
       "      <td>31.0</td>\n",
       "      <td>DUBUQUE</td>\n",
       "      <td>...</td>\n",
       "      <td>65200</td>\n",
       "      <td>Tequila Rose Liqueur</td>\n",
       "      <td>12</td>\n",
       "      <td>750</td>\n",
       "      <td>11.50</td>\n",
       "      <td>17.25</td>\n",
       "      <td>4</td>\n",
       "      <td>69.00</td>\n",
       "      <td>3.0</td>\n",
       "      <td>0.79</td>\n",
       "    </tr>\n",
       "    <tr>\n",
       "      <th>2</th>\n",
       "      <td>INV-33184300011</td>\n",
       "      <td>2021-01-04</td>\n",
       "      <td>2539</td>\n",
       "      <td>Hy-Vee Food Store / Iowa Falls</td>\n",
       "      <td>640 S. Oak</td>\n",
       "      <td>Iowa Falls</td>\n",
       "      <td>50126.0</td>\n",
       "      <td>POINT (-93.262364 42.508752)</td>\n",
       "      <td>42.0</td>\n",
       "      <td>HARDIN</td>\n",
       "      <td>...</td>\n",
       "      <td>38008</td>\n",
       "      <td>Smirnoff 80prf PET</td>\n",
       "      <td>6</td>\n",
       "      <td>1750</td>\n",
       "      <td>14.75</td>\n",
       "      <td>22.13</td>\n",
       "      <td>6</td>\n",
       "      <td>132.78</td>\n",
       "      <td>10.5</td>\n",
       "      <td>2.77</td>\n",
       "    </tr>\n",
       "    <tr>\n",
       "      <th>3</th>\n",
       "      <td>INV-33184100015</td>\n",
       "      <td>2021-01-04</td>\n",
       "      <td>4024</td>\n",
       "      <td>Wal-Mart 1546 / Iowa Falls</td>\n",
       "      <td>840 S Oak</td>\n",
       "      <td>Iowa Falls</td>\n",
       "      <td>50126.0</td>\n",
       "      <td>POINT (-93.262446 42.503407)</td>\n",
       "      <td>42.0</td>\n",
       "      <td>HARDIN</td>\n",
       "      <td>...</td>\n",
       "      <td>36648</td>\n",
       "      <td>Caliber Vodka</td>\n",
       "      <td>12</td>\n",
       "      <td>750</td>\n",
       "      <td>3.31</td>\n",
       "      <td>4.97</td>\n",
       "      <td>12</td>\n",
       "      <td>59.64</td>\n",
       "      <td>9.0</td>\n",
       "      <td>2.37</td>\n",
       "    </tr>\n",
       "    <tr>\n",
       "      <th>4</th>\n",
       "      <td>INV-33174200025</td>\n",
       "      <td>2021-01-04</td>\n",
       "      <td>5385</td>\n",
       "      <td>Vine Food &amp; Liquor</td>\n",
       "      <td>2704 Vine St.</td>\n",
       "      <td>West Des Moines</td>\n",
       "      <td>50265.0</td>\n",
       "      <td>POINT (-93.741511 41.580206)</td>\n",
       "      <td>77.0</td>\n",
       "      <td>POLK</td>\n",
       "      <td>...</td>\n",
       "      <td>4626</td>\n",
       "      <td>Buchanan Deluxe 12YR</td>\n",
       "      <td>12</td>\n",
       "      <td>750</td>\n",
       "      <td>20.99</td>\n",
       "      <td>31.49</td>\n",
       "      <td>2</td>\n",
       "      <td>62.98</td>\n",
       "      <td>1.5</td>\n",
       "      <td>0.39</td>\n",
       "    </tr>\n",
       "  </tbody>\n",
       "</table>\n",
       "<p>5 rows × 24 columns</p>\n",
       "</div>"
      ],
      "text/plain": [
       "  invoice_and_item_number        date  store_number  \\\n",
       "0         INV-33179700135  2021-01-04          2576   \n",
       "1         INV-33196200106  2021-01-04          2649   \n",
       "2         INV-33184300011  2021-01-04          2539   \n",
       "3         INV-33184100015  2021-01-04          4024   \n",
       "4         INV-33174200025  2021-01-04          5385   \n",
       "\n",
       "                             store_name         address             city  \\\n",
       "0  Hy-Vee Wine and Spirits / Storm Lake  1250 N Lake St       Storm Lake   \n",
       "1                   Hy-Vee #3 / Dubuque   400 Locust St          Dubuque   \n",
       "2        Hy-Vee Food Store / Iowa Falls      640 S. Oak       Iowa Falls   \n",
       "3            Wal-Mart 1546 / Iowa Falls       840 S Oak       Iowa Falls   \n",
       "4                    Vine Food & Liquor   2704 Vine St.  West Des Moines   \n",
       "\n",
       "   zip_code                        store_location  county_number      county  \\\n",
       "0   50588.0  POINT (-95.200758 42.65318400000001)           11.0  BUENA VIST   \n",
       "1   52001.0  POINT (-90.666497 42.49721900000001)           31.0     DUBUQUE   \n",
       "2   50126.0          POINT (-93.262364 42.508752)           42.0      HARDIN   \n",
       "3   50126.0          POINT (-93.262446 42.503407)           42.0      HARDIN   \n",
       "4   50265.0          POINT (-93.741511 41.580206)           77.0        POLK   \n",
       "\n",
       "   ...  item_number           item_description  pack bottle_volume_ml  \\\n",
       "0  ...        64870  Fireball Cinnamon Whiskey    48              100   \n",
       "1  ...        65200       Tequila Rose Liqueur    12              750   \n",
       "2  ...        38008         Smirnoff 80prf PET     6             1750   \n",
       "3  ...        36648              Caliber Vodka    12              750   \n",
       "4  ...         4626       Buchanan Deluxe 12YR    12              750   \n",
       "\n",
       "   state_bottle_cost state_bottle_retail  bottles_sold  sale_dollars  \\\n",
       "0               0.90                1.35            48         64.80   \n",
       "1              11.50               17.25             4         69.00   \n",
       "2              14.75               22.13             6        132.78   \n",
       "3               3.31                4.97            12         59.64   \n",
       "4              20.99               31.49             2         62.98   \n",
       "\n",
       "   volume_sold_liters  volume_sold_gallons  \n",
       "0                 4.8                 1.26  \n",
       "1                 3.0                 0.79  \n",
       "2                10.5                 2.77  \n",
       "3                 9.0                 2.37  \n",
       "4                 1.5                 0.39  \n",
       "\n",
       "[5 rows x 24 columns]"
      ]
     },
     "execution_count": 4,
     "metadata": {},
     "output_type": "execute_result"
    }
   ],
   "source": [
    "df_sales.head()"
   ]
  },
  {
   "cell_type": "code",
   "execution_count": 5,
   "id": "53edbeeb-0a4d-436d-a36f-bfe8ca5533f5",
   "metadata": {},
   "outputs": [
    {
     "data": {
      "text/plain": [
       "(2805307, 24)"
      ]
     },
     "execution_count": 5,
     "metadata": {},
     "output_type": "execute_result"
    }
   ],
   "source": [
    "df_sales.shape"
   ]
  },
  {
   "cell_type": "code",
   "execution_count": 6,
   "id": "b3564678-1db4-4c99-866a-04bf9919c746",
   "metadata": {},
   "outputs": [
    {
     "data": {
      "text/plain": [
       "Index(['invoice_and_item_number', 'date', 'store_number', 'store_name',\n",
       "       'address', 'city', 'zip_code', 'store_location', 'county_number',\n",
       "       'county', 'category', 'category_name', 'vendor_number', 'vendor_name',\n",
       "       'item_number', 'item_description', 'pack', 'bottle_volume_ml',\n",
       "       'state_bottle_cost', 'state_bottle_retail', 'bottles_sold',\n",
       "       'sale_dollars', 'volume_sold_liters', 'volume_sold_gallons'],\n",
       "      dtype='object')"
      ]
     },
     "execution_count": 6,
     "metadata": {},
     "output_type": "execute_result"
    }
   ],
   "source": [
    "df_sales.columns"
   ]
  },
  {
   "cell_type": "code",
   "execution_count": 7,
   "id": "6a30bea2-193d-4b3b-a261-777cb7ea08d6",
   "metadata": {},
   "outputs": [
    {
     "data": {
      "text/plain": [
       "invoice_and_item_number     object\n",
       "date                        object\n",
       "store_number                 int64\n",
       "store_name                  object\n",
       "address                     object\n",
       "city                        object\n",
       "zip_code                   float64\n",
       "store_location              object\n",
       "county_number              float64\n",
       "county                      object\n",
       "category                   float64\n",
       "category_name               object\n",
       "vendor_number              float64\n",
       "vendor_name                 object\n",
       "item_number                  int64\n",
       "item_description            object\n",
       "pack                         int64\n",
       "bottle_volume_ml             int64\n",
       "state_bottle_cost          float64\n",
       "state_bottle_retail        float64\n",
       "bottles_sold                 int64\n",
       "sale_dollars               float64\n",
       "volume_sold_liters         float64\n",
       "volume_sold_gallons        float64\n",
       "dtype: object"
      ]
     },
     "execution_count": 7,
     "metadata": {},
     "output_type": "execute_result"
    }
   ],
   "source": [
    "df_sales.dtypes"
   ]
  },
  {
   "cell_type": "code",
   "execution_count": 8,
   "id": "b5d1e951-7ed7-4595-8336-0ca72ab16ca0",
   "metadata": {},
   "outputs": [
    {
     "name": "stdout",
     "output_type": "stream",
     "text": [
      "<class 'pandas.core.frame.DataFrame'>\n",
      "RangeIndex: 2805307 entries, 0 to 2805306\n",
      "Data columns (total 24 columns):\n",
      " #   Column                   Dtype  \n",
      "---  ------                   -----  \n",
      " 0   invoice_and_item_number  object \n",
      " 1   date                     object \n",
      " 2   store_number             int64  \n",
      " 3   store_name               object \n",
      " 4   address                  object \n",
      " 5   city                     object \n",
      " 6   zip_code                 float64\n",
      " 7   store_location           object \n",
      " 8   county_number            float64\n",
      " 9   county                   object \n",
      " 10  category                 float64\n",
      " 11  category_name            object \n",
      " 12  vendor_number            float64\n",
      " 13  vendor_name              object \n",
      " 14  item_number              int64  \n",
      " 15  item_description         object \n",
      " 16  pack                     int64  \n",
      " 17  bottle_volume_ml         int64  \n",
      " 18  state_bottle_cost        float64\n",
      " 19  state_bottle_retail      float64\n",
      " 20  bottles_sold             int64  \n",
      " 21  sale_dollars             float64\n",
      " 22  volume_sold_liters       float64\n",
      " 23  volume_sold_gallons      float64\n",
      "dtypes: float64(9), int64(5), object(10)\n",
      "memory usage: 513.7+ MB\n"
     ]
    }
   ],
   "source": [
    "df_sales.info()"
   ]
  },
  {
   "cell_type": "code",
   "execution_count": 9,
   "id": "d75486bf-9244-484a-b6f7-90134cd620c5",
   "metadata": {},
   "outputs": [
    {
     "data": {
      "text/html": [
       "<div>\n",
       "<style scoped>\n",
       "    .dataframe tbody tr th:only-of-type {\n",
       "        vertical-align: middle;\n",
       "    }\n",
       "\n",
       "    .dataframe tbody tr th {\n",
       "        vertical-align: top;\n",
       "    }\n",
       "\n",
       "    .dataframe thead th {\n",
       "        text-align: right;\n",
       "    }\n",
       "</style>\n",
       "<table border=\"1\" class=\"dataframe\">\n",
       "  <thead>\n",
       "    <tr style=\"text-align: right;\">\n",
       "      <th></th>\n",
       "      <th>store_number</th>\n",
       "      <th>zip_code</th>\n",
       "      <th>county_number</th>\n",
       "      <th>category</th>\n",
       "      <th>vendor_number</th>\n",
       "      <th>item_number</th>\n",
       "      <th>pack</th>\n",
       "      <th>bottle_volume_ml</th>\n",
       "      <th>state_bottle_cost</th>\n",
       "      <th>state_bottle_retail</th>\n",
       "      <th>bottles_sold</th>\n",
       "      <th>sale_dollars</th>\n",
       "      <th>volume_sold_liters</th>\n",
       "      <th>volume_sold_gallons</th>\n",
       "    </tr>\n",
       "  </thead>\n",
       "  <tbody>\n",
       "    <tr>\n",
       "      <th>count</th>\n",
       "      <td>2.805307e+06</td>\n",
       "      <td>2.805165e+06</td>\n",
       "      <td>2.805165e+06</td>\n",
       "      <td>2.805307e+06</td>\n",
       "      <td>2.805303e+06</td>\n",
       "      <td>2.805307e+06</td>\n",
       "      <td>2.805307e+06</td>\n",
       "      <td>2.805307e+06</td>\n",
       "      <td>2.805307e+06</td>\n",
       "      <td>2.805307e+06</td>\n",
       "      <td>2.805307e+06</td>\n",
       "      <td>2.805307e+06</td>\n",
       "      <td>2.805307e+06</td>\n",
       "      <td>2.805307e+06</td>\n",
       "    </tr>\n",
       "    <tr>\n",
       "      <th>mean</th>\n",
       "      <td>4.137796e+03</td>\n",
       "      <td>5.124374e+04</td>\n",
       "      <td>5.712714e+01</td>\n",
       "      <td>1.055993e+06</td>\n",
       "      <td>2.871833e+02</td>\n",
       "      <td>5.456197e+04</td>\n",
       "      <td>1.194263e+01</td>\n",
       "      <td>8.218059e+02</td>\n",
       "      <td>1.132500e+01</td>\n",
       "      <td>1.698823e+01</td>\n",
       "      <td>1.185837e+01</td>\n",
       "      <td>1.624497e+02</td>\n",
       "      <td>9.383131e+00</td>\n",
       "      <td>2.473141e+00</td>\n",
       "    </tr>\n",
       "    <tr>\n",
       "      <th>std</th>\n",
       "      <td>1.265248e+03</td>\n",
       "      <td>9.906550e+02</td>\n",
       "      <td>2.732875e+01</td>\n",
       "      <td>1.039322e+05</td>\n",
       "      <td>1.415585e+02</td>\n",
       "      <td>9.185349e+04</td>\n",
       "      <td>7.846285e+00</td>\n",
       "      <td>5.254814e+02</td>\n",
       "      <td>1.103231e+01</td>\n",
       "      <td>1.654628e+01</td>\n",
       "      <td>3.566817e+01</td>\n",
       "      <td>5.871846e+02</td>\n",
       "      <td>4.120727e+01</td>\n",
       "      <td>1.088601e+01</td>\n",
       "    </tr>\n",
       "    <tr>\n",
       "      <th>min</th>\n",
       "      <td>2.106000e+03</td>\n",
       "      <td>5.000200e+04</td>\n",
       "      <td>1.000000e+00</td>\n",
       "      <td>1.011000e+06</td>\n",
       "      <td>3.300000e+01</td>\n",
       "      <td>2.580000e+02</td>\n",
       "      <td>1.000000e+00</td>\n",
       "      <td>2.000000e+01</td>\n",
       "      <td>6.600000e-01</td>\n",
       "      <td>9.900000e-01</td>\n",
       "      <td>1.000000e+00</td>\n",
       "      <td>1.340000e+00</td>\n",
       "      <td>2.000000e-02</td>\n",
       "      <td>0.000000e+00</td>\n",
       "    </tr>\n",
       "    <tr>\n",
       "      <th>25%</th>\n",
       "      <td>2.644000e+03</td>\n",
       "      <td>5.031400e+04</td>\n",
       "      <td>3.100000e+01</td>\n",
       "      <td>1.012100e+06</td>\n",
       "      <td>2.050000e+02</td>\n",
       "      <td>2.712500e+04</td>\n",
       "      <td>6.000000e+00</td>\n",
       "      <td>3.750000e+02</td>\n",
       "      <td>6.000000e+00</td>\n",
       "      <td>9.000000e+00</td>\n",
       "      <td>3.000000e+00</td>\n",
       "      <td>4.200000e+01</td>\n",
       "      <td>1.500000e+00</td>\n",
       "      <td>3.900000e-01</td>\n",
       "    </tr>\n",
       "    <tr>\n",
       "      <th>50%</th>\n",
       "      <td>4.186000e+03</td>\n",
       "      <td>5.104000e+04</td>\n",
       "      <td>6.200000e+01</td>\n",
       "      <td>1.031200e+06</td>\n",
       "      <td>2.600000e+02</td>\n",
       "      <td>3.991600e+04</td>\n",
       "      <td>1.200000e+01</td>\n",
       "      <td>7.500000e+02</td>\n",
       "      <td>8.990000e+00</td>\n",
       "      <td>1.349000e+01</td>\n",
       "      <td>6.000000e+00</td>\n",
       "      <td>8.892000e+01</td>\n",
       "      <td>4.500000e+00</td>\n",
       "      <td>1.180000e+00</td>\n",
       "    </tr>\n",
       "    <tr>\n",
       "      <th>75%</th>\n",
       "      <td>5.244000e+03</td>\n",
       "      <td>5.230200e+04</td>\n",
       "      <td>7.700000e+01</td>\n",
       "      <td>1.062500e+06</td>\n",
       "      <td>4.200000e+02</td>\n",
       "      <td>6.525100e+04</td>\n",
       "      <td>1.200000e+01</td>\n",
       "      <td>1.000000e+03</td>\n",
       "      <td>1.400000e+01</td>\n",
       "      <td>2.100000e+01</td>\n",
       "      <td>1.200000e+01</td>\n",
       "      <td>1.665000e+02</td>\n",
       "      <td>1.050000e+01</td>\n",
       "      <td>2.770000e+00</td>\n",
       "    </tr>\n",
       "    <tr>\n",
       "      <th>max</th>\n",
       "      <td>9.049000e+03</td>\n",
       "      <td>5.722200e+04</td>\n",
       "      <td>9.900000e+01</td>\n",
       "      <td>1.901200e+06</td>\n",
       "      <td>9.780000e+02</td>\n",
       "      <td>9.999950e+05</td>\n",
       "      <td>1.200000e+02</td>\n",
       "      <td>5.250000e+03</td>\n",
       "      <td>2.098940e+03</td>\n",
       "      <td>3.148410e+03</td>\n",
       "      <td>1.320000e+04</td>\n",
       "      <td>2.509320e+05</td>\n",
       "      <td>1.320000e+04</td>\n",
       "      <td>3.487070e+03</td>\n",
       "    </tr>\n",
       "  </tbody>\n",
       "</table>\n",
       "</div>"
      ],
      "text/plain": [
       "       store_number      zip_code  county_number      category  vendor_number  \\\n",
       "count  2.805307e+06  2.805165e+06   2.805165e+06  2.805307e+06   2.805303e+06   \n",
       "mean   4.137796e+03  5.124374e+04   5.712714e+01  1.055993e+06   2.871833e+02   \n",
       "std    1.265248e+03  9.906550e+02   2.732875e+01  1.039322e+05   1.415585e+02   \n",
       "min    2.106000e+03  5.000200e+04   1.000000e+00  1.011000e+06   3.300000e+01   \n",
       "25%    2.644000e+03  5.031400e+04   3.100000e+01  1.012100e+06   2.050000e+02   \n",
       "50%    4.186000e+03  5.104000e+04   6.200000e+01  1.031200e+06   2.600000e+02   \n",
       "75%    5.244000e+03  5.230200e+04   7.700000e+01  1.062500e+06   4.200000e+02   \n",
       "max    9.049000e+03  5.722200e+04   9.900000e+01  1.901200e+06   9.780000e+02   \n",
       "\n",
       "        item_number          pack  bottle_volume_ml  state_bottle_cost  \\\n",
       "count  2.805307e+06  2.805307e+06      2.805307e+06       2.805307e+06   \n",
       "mean   5.456197e+04  1.194263e+01      8.218059e+02       1.132500e+01   \n",
       "std    9.185349e+04  7.846285e+00      5.254814e+02       1.103231e+01   \n",
       "min    2.580000e+02  1.000000e+00      2.000000e+01       6.600000e-01   \n",
       "25%    2.712500e+04  6.000000e+00      3.750000e+02       6.000000e+00   \n",
       "50%    3.991600e+04  1.200000e+01      7.500000e+02       8.990000e+00   \n",
       "75%    6.525100e+04  1.200000e+01      1.000000e+03       1.400000e+01   \n",
       "max    9.999950e+05  1.200000e+02      5.250000e+03       2.098940e+03   \n",
       "\n",
       "       state_bottle_retail  bottles_sold  sale_dollars  volume_sold_liters  \\\n",
       "count         2.805307e+06  2.805307e+06  2.805307e+06        2.805307e+06   \n",
       "mean          1.698823e+01  1.185837e+01  1.624497e+02        9.383131e+00   \n",
       "std           1.654628e+01  3.566817e+01  5.871846e+02        4.120727e+01   \n",
       "min           9.900000e-01  1.000000e+00  1.340000e+00        2.000000e-02   \n",
       "25%           9.000000e+00  3.000000e+00  4.200000e+01        1.500000e+00   \n",
       "50%           1.349000e+01  6.000000e+00  8.892000e+01        4.500000e+00   \n",
       "75%           2.100000e+01  1.200000e+01  1.665000e+02        1.050000e+01   \n",
       "max           3.148410e+03  1.320000e+04  2.509320e+05        1.320000e+04   \n",
       "\n",
       "       volume_sold_gallons  \n",
       "count         2.805307e+06  \n",
       "mean          2.473141e+00  \n",
       "std           1.088601e+01  \n",
       "min           0.000000e+00  \n",
       "25%           3.900000e-01  \n",
       "50%           1.180000e+00  \n",
       "75%           2.770000e+00  \n",
       "max           3.487070e+03  "
      ]
     },
     "execution_count": 9,
     "metadata": {},
     "output_type": "execute_result"
    }
   ],
   "source": [
    "df_sales.describe()"
   ]
  },
  {
   "cell_type": "code",
   "execution_count": 10,
   "id": "ae26e90f-394d-456b-86c1-d0386af3a34c",
   "metadata": {},
   "outputs": [],
   "source": [
    "# Finding quantiles of sales\n",
    "\n",
    "sales_q1 = df_sales['sale_dollars'].quantile(0.25)\n",
    "sales_q2 = df_sales['sale_dollars'].quantile(0.50)\n",
    "sales_q3 = df_sales['sale_dollars'].quantile(0.75)\n",
    "\n",
    "# Getting the standard deviation, mean, and the upper and lower bounds\n",
    "\n",
    "sales_std = df_sales['sale_dollars'].std()\n",
    "sales_mean = df_sales['sale_dollars'].mean()\n",
    "sales_upper = sales_mean + (2 * sales_std)\n",
    "sales_lower = sales_mean - (2 * sales_std)"
   ]
  },
  {
   "cell_type": "code",
   "execution_count": 11,
   "id": "ec7e324c-9af5-4c5c-9f37-a151ec7037cb",
   "metadata": {},
   "outputs": [
    {
     "name": "stdout",
     "output_type": "stream",
     "text": [
      "Q1: 42.0 \n",
      "Q2: 88.92 \n",
      "Q3: 166.5\n",
      "STD: 587.1846395914624 \n",
      "Mean: 162.44968686136653 \n",
      "Upper Bound: 1336.8189660442913 \n",
      "Lower Bound: -1011.9195923215583\n"
     ]
    }
   ],
   "source": [
    "print('Q1:',sales_q1, '\\nQ2:', sales_q2, '\\nQ3:', sales_q3)\n",
    "print('STD:', sales_std, '\\nMean:', sales_mean, '\\nUpper Bound:' , sales_upper, '\\nLower Bound:' , sales_lower)"
   ]
  },
  {
   "cell_type": "code",
   "execution_count": 12,
   "id": "bfb12a26-17ab-4f80-b500-8d4f129ced50",
   "metadata": {},
   "outputs": [
    {
     "data": {
      "text/plain": [
       "invoice_and_item_number    28622\n",
       "date                       28622\n",
       "store_number               28622\n",
       "store_name                 28622\n",
       "address                    28617\n",
       "city                       28617\n",
       "zip_code                   28617\n",
       "store_location             25678\n",
       "county_number              28617\n",
       "county                     28617\n",
       "category                   28622\n",
       "category_name              28622\n",
       "vendor_number              28621\n",
       "vendor_name                28621\n",
       "item_number                28622\n",
       "item_description           28622\n",
       "pack                       28622\n",
       "bottle_volume_ml           28622\n",
       "state_bottle_cost          28622\n",
       "state_bottle_retail        28622\n",
       "bottles_sold               28622\n",
       "sale_dollars               28622\n",
       "volume_sold_liters         28622\n",
       "volume_sold_gallons        28622\n",
       "dtype: int64"
      ]
     },
     "execution_count": 12,
     "metadata": {},
     "output_type": "execute_result"
    }
   ],
   "source": [
    "# Getting a count of outliers above the upper bound\n",
    "\n",
    "df_sales[(df_sales['sale_dollars'] > sales_upper)].count()"
   ]
  },
  {
   "cell_type": "markdown",
   "id": "dd4f9a8a-f8fb-4081-a039-2a4283b3f9be",
   "metadata": {
    "tags": []
   },
   "source": [
    "# 02. Missing Values and Duplicates"
   ]
  },
  {
   "cell_type": "code",
   "execution_count": 13,
   "id": "99ce3df6-bccb-4ad2-adb6-6f4f7ee772c4",
   "metadata": {},
   "outputs": [
    {
     "data": {
      "text/plain": [
       "invoice_and_item_number         0\n",
       "date                            0\n",
       "store_number                    0\n",
       "store_name                      0\n",
       "address                       142\n",
       "city                          142\n",
       "zip_code                      142\n",
       "store_location             330335\n",
       "county_number                 142\n",
       "county                        142\n",
       "category                        0\n",
       "category_name                   0\n",
       "vendor_number                   4\n",
       "vendor_name                     4\n",
       "item_number                     0\n",
       "item_description                0\n",
       "pack                            0\n",
       "bottle_volume_ml                0\n",
       "state_bottle_cost               0\n",
       "state_bottle_retail             0\n",
       "bottles_sold                    0\n",
       "sale_dollars                    0\n",
       "volume_sold_liters              0\n",
       "volume_sold_gallons             0\n",
       "dtype: int64"
      ]
     },
     "execution_count": 13,
     "metadata": {},
     "output_type": "execute_result"
    }
   ],
   "source": [
    "df_sales.isnull().sum()"
   ]
  },
  {
   "cell_type": "markdown",
   "id": "082fffbf-b2fe-4955-85e9-e4a05377455a",
   "metadata": {},
   "source": [
    "Will want to look further into the store_location aka the geolocation whenever I visualize."
   ]
  },
  {
   "cell_type": "code",
   "execution_count": 14,
   "id": "5f88f0c3-6ec4-477e-9a08-4bb797420899",
   "metadata": {},
   "outputs": [
    {
     "data": {
      "text/html": [
       "<div>\n",
       "<style scoped>\n",
       "    .dataframe tbody tr th:only-of-type {\n",
       "        vertical-align: middle;\n",
       "    }\n",
       "\n",
       "    .dataframe tbody tr th {\n",
       "        vertical-align: top;\n",
       "    }\n",
       "\n",
       "    .dataframe thead th {\n",
       "        text-align: right;\n",
       "    }\n",
       "</style>\n",
       "<table border=\"1\" class=\"dataframe\">\n",
       "  <thead>\n",
       "    <tr style=\"text-align: right;\">\n",
       "      <th></th>\n",
       "      <th>invoice_and_item_number</th>\n",
       "      <th>date</th>\n",
       "      <th>store_number</th>\n",
       "      <th>store_name</th>\n",
       "      <th>address</th>\n",
       "      <th>city</th>\n",
       "      <th>zip_code</th>\n",
       "      <th>store_location</th>\n",
       "      <th>county_number</th>\n",
       "      <th>county</th>\n",
       "      <th>...</th>\n",
       "      <th>item_number</th>\n",
       "      <th>item_description</th>\n",
       "      <th>pack</th>\n",
       "      <th>bottle_volume_ml</th>\n",
       "      <th>state_bottle_cost</th>\n",
       "      <th>state_bottle_retail</th>\n",
       "      <th>bottles_sold</th>\n",
       "      <th>sale_dollars</th>\n",
       "      <th>volume_sold_liters</th>\n",
       "      <th>volume_sold_gallons</th>\n",
       "    </tr>\n",
       "  </thead>\n",
       "  <tbody>\n",
       "  </tbody>\n",
       "</table>\n",
       "<p>0 rows × 24 columns</p>\n",
       "</div>"
      ],
      "text/plain": [
       "Empty DataFrame\n",
       "Columns: [invoice_and_item_number, date, store_number, store_name, address, city, zip_code, store_location, county_number, county, category, category_name, vendor_number, vendor_name, item_number, item_description, pack, bottle_volume_ml, state_bottle_cost, state_bottle_retail, bottles_sold, sale_dollars, volume_sold_liters, volume_sold_gallons]\n",
       "Index: []\n",
       "\n",
       "[0 rows x 24 columns]"
      ]
     },
     "execution_count": 14,
     "metadata": {},
     "output_type": "execute_result"
    }
   ],
   "source": [
    "# Checking for duplicates\n",
    "Duplicate = df_sales[df_sales.duplicated()]\n",
    "Duplicate"
   ]
  },
  {
   "cell_type": "markdown",
   "id": "1f06c88c-67ff-4131-9e69-d5c1e3afbefb",
   "metadata": {},
   "source": [
    "No Duplicates records, so no transformation is needed."
   ]
  },
  {
   "cell_type": "markdown",
   "id": "295ba88e-8e19-4840-a92d-fd1b4a6f468d",
   "metadata": {
    "tags": []
   },
   "source": [
    "# 03. Changing Names"
   ]
  },
  {
   "cell_type": "code",
   "execution_count": 15,
   "id": "87a7bb30-146a-4538-a8c2-08ed4cd9b0db",
   "metadata": {},
   "outputs": [],
   "source": [
    "# Renaming columns for legibility\n",
    "df_sales.rename(columns = {'category' : 'category_code', 'county' : 'county_name', 'pack' : 'package_size'}, inplace = True)"
   ]
  },
  {
   "cell_type": "code",
   "execution_count": 16,
   "id": "edc8a2e2-6bf9-47a2-8c39-a0919dfad589",
   "metadata": {},
   "outputs": [
    {
     "data": {
      "text/plain": [
       "Index(['invoice_and_item_number', 'date', 'store_number', 'store_name',\n",
       "       'address', 'city', 'zip_code', 'store_location', 'county_number',\n",
       "       'county_name', 'category_code', 'category_name', 'vendor_number',\n",
       "       'vendor_name', 'item_number', 'item_description', 'package_size',\n",
       "       'bottle_volume_ml', 'state_bottle_cost', 'state_bottle_retail',\n",
       "       'bottles_sold', 'sale_dollars', 'volume_sold_liters',\n",
       "       'volume_sold_gallons'],\n",
       "      dtype='object')"
      ]
     },
     "execution_count": 16,
     "metadata": {},
     "output_type": "execute_result"
    }
   ],
   "source": [
    "df_sales.columns"
   ]
  },
  {
   "cell_type": "markdown",
   "id": "21590203-0174-4457-bf88-293d02e4213d",
   "metadata": {
    "tags": []
   },
   "source": [
    "# 04. Changing Datatypes"
   ]
  },
  {
   "cell_type": "code",
   "execution_count": 17,
   "id": "70b368af-ddc9-4085-bb09-f362e9879704",
   "metadata": {},
   "outputs": [
    {
     "data": {
      "text/plain": [
       "0     50588.0\n",
       "1     52001.0\n",
       "2     50126.0\n",
       "3     50126.0\n",
       "4     50265.0\n",
       "5     50665.0\n",
       "6     52349.0\n",
       "7     52040.0\n",
       "8     50265.0\n",
       "9     52761.0\n",
       "10    50322.0\n",
       "11    50588.0\n",
       "12    52040.0\n",
       "13    52405.0\n",
       "14    52732.0\n",
       "15    52404.0\n",
       "16    50265.0\n",
       "17    51450.0\n",
       "18    52404.0\n",
       "19    50588.0\n",
       "20    50266.0\n",
       "21    50461.0\n",
       "22    52732.0\n",
       "23    52761.0\n",
       "24    50265.0\n",
       "25    52211.0\n",
       "26    50317.0\n",
       "27    52404.0\n",
       "28    52402.0\n",
       "29    52726.0\n",
       "Name: zip_code, dtype: float64"
      ]
     },
     "execution_count": 17,
     "metadata": {},
     "output_type": "execute_result"
    }
   ],
   "source": [
    "# Some reason the zip code is a float, I am changing it to an Int64\n",
    "df_sales['zip_code'].head(30)"
   ]
  },
  {
   "cell_type": "code",
   "execution_count": 18,
   "id": "50c5578c-866f-4028-89e1-855026e9a766",
   "metadata": {},
   "outputs": [
    {
     "data": {
      "text/plain": [
       "Int64Dtype()"
      ]
     },
     "execution_count": 18,
     "metadata": {},
     "output_type": "execute_result"
    }
   ],
   "source": [
    "# Chaning datatype\n",
    "\n",
    "df_sales['zip_code'] = df_sales['zip_code'].astype('Int64')\n",
    "df_sales['zip_code'].dtype"
   ]
  },
  {
   "cell_type": "code",
   "execution_count": 19,
   "id": "ed715459-b27f-41b6-91c1-37253025121e",
   "metadata": {},
   "outputs": [
    {
     "data": {
      "text/plain": [
       "0    50588\n",
       "1    52001\n",
       "2    50126\n",
       "3    50126\n",
       "4    50265\n",
       "Name: zip_code, dtype: Int64"
      ]
     },
     "execution_count": 19,
     "metadata": {},
     "output_type": "execute_result"
    }
   ],
   "source": [
    "#Verifying\n",
    "\n",
    "df_sales['zip_code'].head()"
   ]
  },
  {
   "cell_type": "code",
   "execution_count": 20,
   "id": "710f467b-8f3f-42d1-96d6-7b02e9271a9a",
   "metadata": {
    "tags": []
   },
   "outputs": [
    {
     "data": {
      "text/plain": [
       "0     11.0\n",
       "1     31.0\n",
       "2     42.0\n",
       "3     42.0\n",
       "4     77.0\n",
       "5     12.0\n",
       "6      6.0\n",
       "7     31.0\n",
       "8     77.0\n",
       "9     70.0\n",
       "10    77.0\n",
       "11    11.0\n",
       "12    31.0\n",
       "13    57.0\n",
       "14    23.0\n",
       "15    57.0\n",
       "16    77.0\n",
       "17    81.0\n",
       "18    57.0\n",
       "19    11.0\n",
       "20    77.0\n",
       "21    66.0\n",
       "22    23.0\n",
       "23    70.0\n",
       "24    77.0\n",
       "25    79.0\n",
       "26    77.0\n",
       "27    57.0\n",
       "28    57.0\n",
       "29    82.0\n",
       "Name: county_number, dtype: float64"
      ]
     },
     "execution_count": 20,
     "metadata": {},
     "output_type": "execute_result"
    }
   ],
   "source": [
    "# Some reason the county number is a float, I am changing it to an Int64\n",
    "\n",
    "df_sales['county_number'].head(30)"
   ]
  },
  {
   "cell_type": "code",
   "execution_count": 21,
   "id": "3ee8d434-8d0c-47c2-b12b-b1cdbc0e202f",
   "metadata": {},
   "outputs": [
    {
     "data": {
      "text/html": [
       "<div>\n",
       "<style scoped>\n",
       "    .dataframe tbody tr th:only-of-type {\n",
       "        vertical-align: middle;\n",
       "    }\n",
       "\n",
       "    .dataframe tbody tr th {\n",
       "        vertical-align: top;\n",
       "    }\n",
       "\n",
       "    .dataframe thead th {\n",
       "        text-align: right;\n",
       "    }\n",
       "</style>\n",
       "<table border=\"1\" class=\"dataframe\">\n",
       "  <thead>\n",
       "    <tr style=\"text-align: right;\">\n",
       "      <th></th>\n",
       "      <th>county_number</th>\n",
       "      <th>category_code</th>\n",
       "      <th>vendor_number</th>\n",
       "    </tr>\n",
       "  </thead>\n",
       "  <tbody>\n",
       "    <tr>\n",
       "      <th>0</th>\n",
       "      <td>11</td>\n",
       "      <td>1081600</td>\n",
       "      <td>421</td>\n",
       "    </tr>\n",
       "    <tr>\n",
       "      <th>1</th>\n",
       "      <td>31</td>\n",
       "      <td>1081200</td>\n",
       "      <td>300</td>\n",
       "    </tr>\n",
       "    <tr>\n",
       "      <th>2</th>\n",
       "      <td>42</td>\n",
       "      <td>1031100</td>\n",
       "      <td>260</td>\n",
       "    </tr>\n",
       "    <tr>\n",
       "      <th>3</th>\n",
       "      <td>42</td>\n",
       "      <td>1031100</td>\n",
       "      <td>55</td>\n",
       "    </tr>\n",
       "    <tr>\n",
       "      <th>4</th>\n",
       "      <td>77</td>\n",
       "      <td>1012200</td>\n",
       "      <td>260</td>\n",
       "    </tr>\n",
       "  </tbody>\n",
       "</table>\n",
       "</div>"
      ],
      "text/plain": [
       "   county_number  category_code  vendor_number\n",
       "0             11        1081600            421\n",
       "1             31        1081200            300\n",
       "2             42        1031100            260\n",
       "3             42        1031100             55\n",
       "4             77        1012200            260"
      ]
     },
     "execution_count": 21,
     "metadata": {},
     "output_type": "execute_result"
    }
   ],
   "source": [
    "# Changing datatype of the rest of the columns\n",
    "\n",
    "df_sales['county_number'] = df_sales['county_number'].astype('Int64')\n",
    "df_sales['category_code'] = df_sales['category_code'].astype('Int64')\n",
    "df_sales['vendor_number'] = df_sales['vendor_number'].astype('Int64')\n",
    "\n",
    "#Verifying\n",
    "\n",
    "df_sales[['county_number', 'category_code', 'vendor_number']].head()"
   ]
  },
  {
   "cell_type": "code",
   "execution_count": 22,
   "id": "bd000a8e-b7e4-49cb-b16d-cc8768a237f5",
   "metadata": {},
   "outputs": [
    {
     "data": {
      "text/plain": [
       "(2805307, 24)"
      ]
     },
     "execution_count": 22,
     "metadata": {},
     "output_type": "execute_result"
    }
   ],
   "source": [
    "#Verifying all wrangling\n",
    "df_sales.shape"
   ]
  },
  {
   "cell_type": "code",
   "execution_count": 23,
   "id": "1c22edef-ddf4-4cf6-897b-9d76fefb190e",
   "metadata": {},
   "outputs": [
    {
     "data": {
      "text/plain": [
       "invoice_and_item_number     object\n",
       "date                        object\n",
       "store_number                 int64\n",
       "store_name                  object\n",
       "address                     object\n",
       "city                        object\n",
       "zip_code                     Int64\n",
       "store_location              object\n",
       "county_number                Int64\n",
       "county_name                 object\n",
       "category_code                Int64\n",
       "category_name               object\n",
       "vendor_number                Int64\n",
       "vendor_name                 object\n",
       "item_number                  int64\n",
       "item_description            object\n",
       "package_size                 int64\n",
       "bottle_volume_ml             int64\n",
       "state_bottle_cost          float64\n",
       "state_bottle_retail        float64\n",
       "bottles_sold                 int64\n",
       "sale_dollars               float64\n",
       "volume_sold_liters         float64\n",
       "volume_sold_gallons        float64\n",
       "dtype: object"
      ]
     },
     "execution_count": 23,
     "metadata": {},
     "output_type": "execute_result"
    }
   ],
   "source": [
    "df_sales.dtypes"
   ]
  },
  {
   "cell_type": "code",
   "execution_count": 24,
   "id": "0af4f127-fcd3-47d2-a6c1-26e663342880",
   "metadata": {},
   "outputs": [
    {
     "data": {
      "text/html": [
       "<div>\n",
       "<style scoped>\n",
       "    .dataframe tbody tr th:only-of-type {\n",
       "        vertical-align: middle;\n",
       "    }\n",
       "\n",
       "    .dataframe tbody tr th {\n",
       "        vertical-align: top;\n",
       "    }\n",
       "\n",
       "    .dataframe thead th {\n",
       "        text-align: right;\n",
       "    }\n",
       "</style>\n",
       "<table border=\"1\" class=\"dataframe\">\n",
       "  <thead>\n",
       "    <tr style=\"text-align: right;\">\n",
       "      <th></th>\n",
       "      <th>invoice_and_item_number</th>\n",
       "      <th>date</th>\n",
       "      <th>store_number</th>\n",
       "      <th>store_name</th>\n",
       "      <th>address</th>\n",
       "      <th>city</th>\n",
       "      <th>zip_code</th>\n",
       "      <th>store_location</th>\n",
       "      <th>county_number</th>\n",
       "      <th>county_name</th>\n",
       "      <th>...</th>\n",
       "      <th>item_number</th>\n",
       "      <th>item_description</th>\n",
       "      <th>package_size</th>\n",
       "      <th>bottle_volume_ml</th>\n",
       "      <th>state_bottle_cost</th>\n",
       "      <th>state_bottle_retail</th>\n",
       "      <th>bottles_sold</th>\n",
       "      <th>sale_dollars</th>\n",
       "      <th>volume_sold_liters</th>\n",
       "      <th>volume_sold_gallons</th>\n",
       "    </tr>\n",
       "  </thead>\n",
       "  <tbody>\n",
       "    <tr>\n",
       "      <th>0</th>\n",
       "      <td>INV-33179700135</td>\n",
       "      <td>2021-01-04</td>\n",
       "      <td>2576</td>\n",
       "      <td>Hy-Vee Wine and Spirits / Storm Lake</td>\n",
       "      <td>1250 N Lake St</td>\n",
       "      <td>Storm Lake</td>\n",
       "      <td>50588</td>\n",
       "      <td>POINT (-95.200758 42.65318400000001)</td>\n",
       "      <td>11</td>\n",
       "      <td>Buena Vist</td>\n",
       "      <td>...</td>\n",
       "      <td>64870</td>\n",
       "      <td>Fireball Cinnamon Whiskey</td>\n",
       "      <td>48</td>\n",
       "      <td>100</td>\n",
       "      <td>0.90</td>\n",
       "      <td>1.35</td>\n",
       "      <td>48</td>\n",
       "      <td>64.80</td>\n",
       "      <td>4.8</td>\n",
       "      <td>1.26</td>\n",
       "    </tr>\n",
       "    <tr>\n",
       "      <th>1</th>\n",
       "      <td>INV-33196200106</td>\n",
       "      <td>2021-01-04</td>\n",
       "      <td>2649</td>\n",
       "      <td>Hy-Vee #3 / Dubuque</td>\n",
       "      <td>400 Locust St</td>\n",
       "      <td>Dubuque</td>\n",
       "      <td>52001</td>\n",
       "      <td>POINT (-90.666497 42.49721900000001)</td>\n",
       "      <td>31</td>\n",
       "      <td>Dubuque</td>\n",
       "      <td>...</td>\n",
       "      <td>65200</td>\n",
       "      <td>Tequila Rose Liqueur</td>\n",
       "      <td>12</td>\n",
       "      <td>750</td>\n",
       "      <td>11.50</td>\n",
       "      <td>17.25</td>\n",
       "      <td>4</td>\n",
       "      <td>69.00</td>\n",
       "      <td>3.0</td>\n",
       "      <td>0.79</td>\n",
       "    </tr>\n",
       "    <tr>\n",
       "      <th>2</th>\n",
       "      <td>INV-33184300011</td>\n",
       "      <td>2021-01-04</td>\n",
       "      <td>2539</td>\n",
       "      <td>Hy-Vee Food Store / Iowa Falls</td>\n",
       "      <td>640 S. Oak</td>\n",
       "      <td>Iowa Falls</td>\n",
       "      <td>50126</td>\n",
       "      <td>POINT (-93.262364 42.508752)</td>\n",
       "      <td>42</td>\n",
       "      <td>Hardin</td>\n",
       "      <td>...</td>\n",
       "      <td>38008</td>\n",
       "      <td>Smirnoff 80prf PET</td>\n",
       "      <td>6</td>\n",
       "      <td>1750</td>\n",
       "      <td>14.75</td>\n",
       "      <td>22.13</td>\n",
       "      <td>6</td>\n",
       "      <td>132.78</td>\n",
       "      <td>10.5</td>\n",
       "      <td>2.77</td>\n",
       "    </tr>\n",
       "    <tr>\n",
       "      <th>3</th>\n",
       "      <td>INV-33184100015</td>\n",
       "      <td>2021-01-04</td>\n",
       "      <td>4024</td>\n",
       "      <td>Wal-Mart 1546 / Iowa Falls</td>\n",
       "      <td>840 S Oak</td>\n",
       "      <td>Iowa Falls</td>\n",
       "      <td>50126</td>\n",
       "      <td>POINT (-93.262446 42.503407)</td>\n",
       "      <td>42</td>\n",
       "      <td>Hardin</td>\n",
       "      <td>...</td>\n",
       "      <td>36648</td>\n",
       "      <td>Caliber Vodka</td>\n",
       "      <td>12</td>\n",
       "      <td>750</td>\n",
       "      <td>3.31</td>\n",
       "      <td>4.97</td>\n",
       "      <td>12</td>\n",
       "      <td>59.64</td>\n",
       "      <td>9.0</td>\n",
       "      <td>2.37</td>\n",
       "    </tr>\n",
       "    <tr>\n",
       "      <th>4</th>\n",
       "      <td>INV-33174200025</td>\n",
       "      <td>2021-01-04</td>\n",
       "      <td>5385</td>\n",
       "      <td>Vine Food &amp; Liquor</td>\n",
       "      <td>2704 Vine St.</td>\n",
       "      <td>West Des Moines</td>\n",
       "      <td>50265</td>\n",
       "      <td>POINT (-93.741511 41.580206)</td>\n",
       "      <td>77</td>\n",
       "      <td>Polk</td>\n",
       "      <td>...</td>\n",
       "      <td>4626</td>\n",
       "      <td>Buchanan Deluxe 12YR</td>\n",
       "      <td>12</td>\n",
       "      <td>750</td>\n",
       "      <td>20.99</td>\n",
       "      <td>31.49</td>\n",
       "      <td>2</td>\n",
       "      <td>62.98</td>\n",
       "      <td>1.5</td>\n",
       "      <td>0.39</td>\n",
       "    </tr>\n",
       "  </tbody>\n",
       "</table>\n",
       "<p>5 rows × 24 columns</p>\n",
       "</div>"
      ],
      "text/plain": [
       "  invoice_and_item_number        date  store_number  \\\n",
       "0         INV-33179700135  2021-01-04          2576   \n",
       "1         INV-33196200106  2021-01-04          2649   \n",
       "2         INV-33184300011  2021-01-04          2539   \n",
       "3         INV-33184100015  2021-01-04          4024   \n",
       "4         INV-33174200025  2021-01-04          5385   \n",
       "\n",
       "                             store_name         address             city  \\\n",
       "0  Hy-Vee Wine and Spirits / Storm Lake  1250 N Lake St       Storm Lake   \n",
       "1                   Hy-Vee #3 / Dubuque   400 Locust St          Dubuque   \n",
       "2        Hy-Vee Food Store / Iowa Falls      640 S. Oak       Iowa Falls   \n",
       "3            Wal-Mart 1546 / Iowa Falls       840 S Oak       Iowa Falls   \n",
       "4                    Vine Food & Liquor   2704 Vine St.  West Des Moines   \n",
       "\n",
       "   zip_code                        store_location  county_number county_name  \\\n",
       "0     50588  POINT (-95.200758 42.65318400000001)             11  Buena Vist   \n",
       "1     52001  POINT (-90.666497 42.49721900000001)             31     Dubuque   \n",
       "2     50126          POINT (-93.262364 42.508752)             42      Hardin   \n",
       "3     50126          POINT (-93.262446 42.503407)             42      Hardin   \n",
       "4     50265          POINT (-93.741511 41.580206)             77        Polk   \n",
       "\n",
       "   ...  item_number           item_description  package_size bottle_volume_ml  \\\n",
       "0  ...        64870  Fireball Cinnamon Whiskey            48              100   \n",
       "1  ...        65200       Tequila Rose Liqueur            12              750   \n",
       "2  ...        38008         Smirnoff 80prf PET             6             1750   \n",
       "3  ...        36648              Caliber Vodka            12              750   \n",
       "4  ...         4626       Buchanan Deluxe 12YR            12              750   \n",
       "\n",
       "   state_bottle_cost state_bottle_retail  bottles_sold  sale_dollars  \\\n",
       "0               0.90                1.35            48         64.80   \n",
       "1              11.50               17.25             4         69.00   \n",
       "2              14.75               22.13             6        132.78   \n",
       "3               3.31                4.97            12         59.64   \n",
       "4              20.99               31.49             2         62.98   \n",
       "\n",
       "   volume_sold_liters  volume_sold_gallons  \n",
       "0                 4.8                 1.26  \n",
       "1                 3.0                 0.79  \n",
       "2                10.5                 2.77  \n",
       "3                 9.0                 2.37  \n",
       "4                 1.5                 0.39  \n",
       "\n",
       "[5 rows x 24 columns]"
      ]
     },
     "execution_count": 24,
     "metadata": {},
     "output_type": "execute_result"
    }
   ],
   "source": [
    "# Formatting county_name to match json file\n",
    "\n",
    "df_sales['county_name'] = df_sales['county_name'].str.title()\n",
    "df_sales.head()"
   ]
  },
  {
   "cell_type": "markdown",
   "id": "5fe59261-6119-4e57-94d2-17a25e06b835",
   "metadata": {},
   "source": [
    "## Exporting Data"
   ]
  },
  {
   "cell_type": "code",
   "execution_count": 25,
   "id": "bbc37bce-43b3-4347-b9ab-90e2acc6ded8",
   "metadata": {},
   "outputs": [],
   "source": [
    "df_sales.to_csv(os.path.join(path, '02 Data', 'Prepared', 'Sales_Wrangled.csv'))"
   ]
  }
 ],
 "metadata": {
  "kernelspec": {
   "display_name": "Python 3 (ipykernel)",
   "language": "python",
   "name": "python3"
  },
  "language_info": {
   "codemirror_mode": {
    "name": "ipython",
    "version": 3
   },
   "file_extension": ".py",
   "mimetype": "text/x-python",
   "name": "python",
   "nbconvert_exporter": "python",
   "pygments_lexer": "ipython3",
   "version": "3.10.9"
  }
 },
 "nbformat": 4,
 "nbformat_minor": 5
}
