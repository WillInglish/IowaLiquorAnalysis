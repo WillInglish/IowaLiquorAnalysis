{
 "cells": [
  {
   "cell_type": "code",
   "execution_count": 1,
   "id": "7c2b5820-addc-45d7-9ad4-5bbf52919d48",
   "metadata": {},
   "outputs": [],
   "source": [
    "import pandas as pd\n",
    "import numpy as np\n",
    "import seaborn as sns\n",
    "import matplotlib\n",
    "import matplotlib.pyplot as plt\n",
    "import os\n",
    "import sklearn\n",
    "from sklearn.model_selection import train_test_split \n",
    "from sklearn.linear_model import LinearRegression\n",
    "from sklearn.metrics import mean_squared_error, r2_score"
   ]
  },
  {
   "cell_type": "code",
   "execution_count": 2,
   "id": "706b7dd4-34e0-43e2-a528-5c2a0be537a7",
   "metadata": {},
   "outputs": [],
   "source": [
    "# For displaying graphs\n",
    "\n",
    "%matplotlib inline"
   ]
  },
  {
   "cell_type": "code",
   "execution_count": 3,
   "id": "5e2dba12-fc09-434e-9e2c-2c21b9c3bf33",
   "metadata": {},
   "outputs": [],
   "source": [
    "#Importing DF\n",
    "\n",
    "path = r'C:\\Users\\William Inglish\\Project 6 Liquor Sales'\n",
    "\n",
    "df_sales = pd.read_csv(os.path.join(path,'02 Data', 'Prepared', 'Sales_Wrangled.csv'), index_col = 0)"
   ]
  },
  {
   "cell_type": "code",
   "execution_count": 4,
   "id": "d3662f7f-02e6-4475-a3cd-67ce90244603",
   "metadata": {},
   "outputs": [
    {
     "data": {
      "text/html": [
       "<div>\n",
       "<style scoped>\n",
       "    .dataframe tbody tr th:only-of-type {\n",
       "        vertical-align: middle;\n",
       "    }\n",
       "\n",
       "    .dataframe tbody tr th {\n",
       "        vertical-align: top;\n",
       "    }\n",
       "\n",
       "    .dataframe thead th {\n",
       "        text-align: right;\n",
       "    }\n",
       "</style>\n",
       "<table border=\"1\" class=\"dataframe\">\n",
       "  <thead>\n",
       "    <tr style=\"text-align: right;\">\n",
       "      <th></th>\n",
       "      <th>invoice_and_item_number</th>\n",
       "      <th>date</th>\n",
       "      <th>store_number</th>\n",
       "      <th>store_name</th>\n",
       "      <th>address</th>\n",
       "      <th>city</th>\n",
       "      <th>zip_code</th>\n",
       "      <th>store_location</th>\n",
       "      <th>county_number</th>\n",
       "      <th>county_name</th>\n",
       "      <th>...</th>\n",
       "      <th>item_number</th>\n",
       "      <th>item_description</th>\n",
       "      <th>package_size</th>\n",
       "      <th>bottle_volume_ml</th>\n",
       "      <th>state_bottle_cost</th>\n",
       "      <th>state_bottle_retail</th>\n",
       "      <th>bottles_sold</th>\n",
       "      <th>sale_dollars</th>\n",
       "      <th>volume_sold_liters</th>\n",
       "      <th>volume_sold_gallons</th>\n",
       "    </tr>\n",
       "  </thead>\n",
       "  <tbody>\n",
       "    <tr>\n",
       "      <th>0</th>\n",
       "      <td>INV-33179700135</td>\n",
       "      <td>2021-01-04</td>\n",
       "      <td>2576</td>\n",
       "      <td>Hy-Vee Wine and Spirits / Storm Lake</td>\n",
       "      <td>1250 N Lake St</td>\n",
       "      <td>Storm Lake</td>\n",
       "      <td>50588.0</td>\n",
       "      <td>POINT (-95.200758 42.65318400000001)</td>\n",
       "      <td>11.0</td>\n",
       "      <td>BUENA VIST</td>\n",
       "      <td>...</td>\n",
       "      <td>64870</td>\n",
       "      <td>Fireball Cinnamon Whiskey</td>\n",
       "      <td>48</td>\n",
       "      <td>100</td>\n",
       "      <td>0.90</td>\n",
       "      <td>1.35</td>\n",
       "      <td>48</td>\n",
       "      <td>64.80</td>\n",
       "      <td>4.8</td>\n",
       "      <td>1.26</td>\n",
       "    </tr>\n",
       "    <tr>\n",
       "      <th>1</th>\n",
       "      <td>INV-33196200106</td>\n",
       "      <td>2021-01-04</td>\n",
       "      <td>2649</td>\n",
       "      <td>Hy-Vee #3 / Dubuque</td>\n",
       "      <td>400 Locust St</td>\n",
       "      <td>Dubuque</td>\n",
       "      <td>52001.0</td>\n",
       "      <td>POINT (-90.666497 42.49721900000001)</td>\n",
       "      <td>31.0</td>\n",
       "      <td>DUBUQUE</td>\n",
       "      <td>...</td>\n",
       "      <td>65200</td>\n",
       "      <td>Tequila Rose Liqueur</td>\n",
       "      <td>12</td>\n",
       "      <td>750</td>\n",
       "      <td>11.50</td>\n",
       "      <td>17.25</td>\n",
       "      <td>4</td>\n",
       "      <td>69.00</td>\n",
       "      <td>3.0</td>\n",
       "      <td>0.79</td>\n",
       "    </tr>\n",
       "    <tr>\n",
       "      <th>2</th>\n",
       "      <td>INV-33184300011</td>\n",
       "      <td>2021-01-04</td>\n",
       "      <td>2539</td>\n",
       "      <td>Hy-Vee Food Store / Iowa Falls</td>\n",
       "      <td>640 S. Oak</td>\n",
       "      <td>Iowa Falls</td>\n",
       "      <td>50126.0</td>\n",
       "      <td>POINT (-93.262364 42.508752)</td>\n",
       "      <td>42.0</td>\n",
       "      <td>HARDIN</td>\n",
       "      <td>...</td>\n",
       "      <td>38008</td>\n",
       "      <td>Smirnoff 80prf PET</td>\n",
       "      <td>6</td>\n",
       "      <td>1750</td>\n",
       "      <td>14.75</td>\n",
       "      <td>22.13</td>\n",
       "      <td>6</td>\n",
       "      <td>132.78</td>\n",
       "      <td>10.5</td>\n",
       "      <td>2.77</td>\n",
       "    </tr>\n",
       "    <tr>\n",
       "      <th>3</th>\n",
       "      <td>INV-33184100015</td>\n",
       "      <td>2021-01-04</td>\n",
       "      <td>4024</td>\n",
       "      <td>Wal-Mart 1546 / Iowa Falls</td>\n",
       "      <td>840 S Oak</td>\n",
       "      <td>Iowa Falls</td>\n",
       "      <td>50126.0</td>\n",
       "      <td>POINT (-93.262446 42.503407)</td>\n",
       "      <td>42.0</td>\n",
       "      <td>HARDIN</td>\n",
       "      <td>...</td>\n",
       "      <td>36648</td>\n",
       "      <td>Caliber Vodka</td>\n",
       "      <td>12</td>\n",
       "      <td>750</td>\n",
       "      <td>3.31</td>\n",
       "      <td>4.97</td>\n",
       "      <td>12</td>\n",
       "      <td>59.64</td>\n",
       "      <td>9.0</td>\n",
       "      <td>2.37</td>\n",
       "    </tr>\n",
       "    <tr>\n",
       "      <th>4</th>\n",
       "      <td>INV-33174200025</td>\n",
       "      <td>2021-01-04</td>\n",
       "      <td>5385</td>\n",
       "      <td>Vine Food &amp; Liquor</td>\n",
       "      <td>2704 Vine St.</td>\n",
       "      <td>West Des Moines</td>\n",
       "      <td>50265.0</td>\n",
       "      <td>POINT (-93.741511 41.580206)</td>\n",
       "      <td>77.0</td>\n",
       "      <td>POLK</td>\n",
       "      <td>...</td>\n",
       "      <td>4626</td>\n",
       "      <td>Buchanan Deluxe 12YR</td>\n",
       "      <td>12</td>\n",
       "      <td>750</td>\n",
       "      <td>20.99</td>\n",
       "      <td>31.49</td>\n",
       "      <td>2</td>\n",
       "      <td>62.98</td>\n",
       "      <td>1.5</td>\n",
       "      <td>0.39</td>\n",
       "    </tr>\n",
       "  </tbody>\n",
       "</table>\n",
       "<p>5 rows × 24 columns</p>\n",
       "</div>"
      ],
      "text/plain": [
       "  invoice_and_item_number        date  store_number  \\\n",
       "0         INV-33179700135  2021-01-04          2576   \n",
       "1         INV-33196200106  2021-01-04          2649   \n",
       "2         INV-33184300011  2021-01-04          2539   \n",
       "3         INV-33184100015  2021-01-04          4024   \n",
       "4         INV-33174200025  2021-01-04          5385   \n",
       "\n",
       "                             store_name         address             city  \\\n",
       "0  Hy-Vee Wine and Spirits / Storm Lake  1250 N Lake St       Storm Lake   \n",
       "1                   Hy-Vee #3 / Dubuque   400 Locust St          Dubuque   \n",
       "2        Hy-Vee Food Store / Iowa Falls      640 S. Oak       Iowa Falls   \n",
       "3            Wal-Mart 1546 / Iowa Falls       840 S Oak       Iowa Falls   \n",
       "4                    Vine Food & Liquor   2704 Vine St.  West Des Moines   \n",
       "\n",
       "   zip_code                        store_location  county_number county_name  \\\n",
       "0   50588.0  POINT (-95.200758 42.65318400000001)           11.0  BUENA VIST   \n",
       "1   52001.0  POINT (-90.666497 42.49721900000001)           31.0     DUBUQUE   \n",
       "2   50126.0          POINT (-93.262364 42.508752)           42.0      HARDIN   \n",
       "3   50126.0          POINT (-93.262446 42.503407)           42.0      HARDIN   \n",
       "4   50265.0          POINT (-93.741511 41.580206)           77.0        POLK   \n",
       "\n",
       "   ...  item_number           item_description  package_size bottle_volume_ml  \\\n",
       "0  ...        64870  Fireball Cinnamon Whiskey            48              100   \n",
       "1  ...        65200       Tequila Rose Liqueur            12              750   \n",
       "2  ...        38008         Smirnoff 80prf PET             6             1750   \n",
       "3  ...        36648              Caliber Vodka            12              750   \n",
       "4  ...         4626       Buchanan Deluxe 12YR            12              750   \n",
       "\n",
       "   state_bottle_cost state_bottle_retail  bottles_sold  sale_dollars  \\\n",
       "0               0.90                1.35            48         64.80   \n",
       "1              11.50               17.25             4         69.00   \n",
       "2              14.75               22.13             6        132.78   \n",
       "3               3.31                4.97            12         59.64   \n",
       "4              20.99               31.49             2         62.98   \n",
       "\n",
       "   volume_sold_liters  volume_sold_gallons  \n",
       "0                 4.8                 1.26  \n",
       "1                 3.0                 0.79  \n",
       "2                10.5                 2.77  \n",
       "3                 9.0                 2.37  \n",
       "4                 1.5                 0.39  \n",
       "\n",
       "[5 rows x 24 columns]"
      ]
     },
     "execution_count": 4,
     "metadata": {},
     "output_type": "execute_result"
    }
   ],
   "source": [
    "df_sales.head()"
   ]
  },
  {
   "cell_type": "code",
   "execution_count": 5,
   "id": "5dc46189-9261-4e9c-a3ac-2336ff29f7b8",
   "metadata": {},
   "outputs": [
    {
     "data": {
      "text/plain": [
       "(2805307, 24)"
      ]
     },
     "execution_count": 5,
     "metadata": {},
     "output_type": "execute_result"
    }
   ],
   "source": [
    "df_sales.shape"
   ]
  },
  {
   "cell_type": "code",
   "execution_count": 6,
   "id": "5c2e879d-2b30-4bc3-a40c-019526b29b29",
   "metadata": {},
   "outputs": [],
   "source": [
    "def remove_column_outliers(df, column):\n",
    "    \n",
    "    # IQR\n",
    "    # Calculate the upper and lower limits\n",
    "    Q1 = df[column].quantile(0.25)\n",
    "    Q3 = df[column].quantile(0.75)\n",
    "    IQR = Q3 - Q1\n",
    "    lower = Q1 - 1.5*IQR\n",
    "    upper = Q3 + 1.5*IQR\n",
    " \n",
    "    # Printing bounds\n",
    "    print('Lower bound is: ', lower)\n",
    "    print('Upper bound is: ', upper)\n",
    "    \n",
    "    # Create arrays of Boolean values indicating the outlier rows\n",
    "    upper_array = np.where(df[column]>=upper)[0]\n",
    "    lower_array = np.where(df[column]<=lower)[0]\n",
    " \n",
    "    # Removing the outliers\n",
    "    df.drop(index=upper_array, inplace=True)\n",
    "    df.drop(index=lower_array, inplace=True)\n",
    "    df.reset_index(drop=True, inplace=True)"
   ]
  },
  {
   "cell_type": "code",
   "execution_count": 7,
   "id": "ad664b00-22bd-426d-a902-1b4d51acf0cc",
   "metadata": {},
   "outputs": [
    {
     "name": "stdout",
     "output_type": "stream",
     "text": [
      "Lower bound is:  -10.5\n",
      "Upper bound is:  25.5\n"
     ]
    }
   ],
   "source": [
    "remove_column_outliers(df_sales, 'bottles_sold')"
   ]
  },
  {
   "cell_type": "code",
   "execution_count": 8,
   "id": "ad2089f0-7226-4024-a9b8-89c8e2f3069c",
   "metadata": {},
   "outputs": [
    {
     "data": {
      "text/plain": [
       "(2651460, 24)"
      ]
     },
     "execution_count": 8,
     "metadata": {},
     "output_type": "execute_result"
    }
   ],
   "source": [
    "df_sales.shape"
   ]
  },
  {
   "cell_type": "code",
   "execution_count": 9,
   "id": "8ba22f3e-59e2-468e-aa18-6d13b4d00d2f",
   "metadata": {
    "tags": []
   },
   "outputs": [
    {
     "data": {
      "image/png": "[encoded data removed]",
      "text/plain": [
       "<Figure size 640x480 with 1 Axes>"
      ]
     },
     "metadata": {},
     "output_type": "display_data"
    }
   ],
   "source": [
    "boxplot2 = df_sales.boxplot(column=['bottles_sold'])"
   ]
  },
  {
   "cell_type": "code",
   "execution_count": 10,
   "id": "4efeb508-e75a-485c-884d-66a638d916ad",
   "metadata": {},
   "outputs": [
    {
     "name": "stdout",
     "output_type": "stream",
     "text": [
      "Lower bound is:  -134.07500000000002\n",
      "Upper bound is:  328.125\n"
     ]
    }
   ],
   "source": [
    "remove_column_outliers(df_sales, 'sale_dollars')"
   ]
  },
  {
   "cell_type": "code",
   "execution_count": 11,
   "id": "cd5da7d7-a072-45d7-a4fb-22b6ffa6a514",
   "metadata": {},
   "outputs": [
    {
     "data": {
      "text/plain": [
       "(2547648, 24)"
      ]
     },
     "execution_count": 11,
     "metadata": {},
     "output_type": "execute_result"
    }
   ],
   "source": [
    "df_sales.shape"
   ]
  },
  {
   "cell_type": "code",
   "execution_count": 12,
   "id": "f43f90af-1338-46dd-a127-ab836f0db19d",
   "metadata": {},
   "outputs": [
    {
     "data": {
      "image/png": "[encoded data removed]",
      "text/plain": [
       "<Figure size 640x480 with 1 Axes>"
      ]
     },
     "metadata": {},
     "output_type": "display_data"
    }
   ],
   "source": [
    "boxplot2 = df_sales.boxplot(column=['sale_dollars'])"
   ]
  },
  {
   "cell_type": "code",
   "execution_count": 13,
   "id": "40ad2f69-93de-44ae-add5-3fbc0ba426ea",
   "metadata": {},
   "outputs": [
    {
     "name": "stdout",
     "output_type": "stream",
     "text": [
      "Lower bound is:  -9.75\n",
      "Upper bound is:  20.25\n"
     ]
    }
   ],
   "source": [
    "remove_column_outliers(df_sales, 'volume_sold_liters')"
   ]
  },
  {
   "cell_type": "code",
   "execution_count": 14,
   "id": "eed06fe2-ab1b-4945-b8e8-811fb7f8eaf6",
   "metadata": {},
   "outputs": [
    {
     "data": {
      "text/plain": [
       "(2478605, 24)"
      ]
     },
     "execution_count": 14,
     "metadata": {},
     "output_type": "execute_result"
    }
   ],
   "source": [
    "df_sales.shape"
   ]
  },
  {
   "cell_type": "code",
   "execution_count": 15,
   "id": "83ebc499-473f-4ef5-9e90-904fba813f08",
   "metadata": {},
   "outputs": [
    {
     "data": {
      "image/png": "[encoded data removed]",
      "text/plain": [
       "<Figure size 640x480 with 1 Axes>"
      ]
     },
     "metadata": {},
     "output_type": "display_data"
    }
   ],
   "source": [
    "boxplot2 = df_sales.boxplot(column=['volume_sold_liters'])"
   ]
  },
  {
   "cell_type": "code",
   "execution_count": 16,
   "id": "4d1f8586-8607-4289-8ffc-6cade61560e8",
   "metadata": {},
   "outputs": [
    {
     "name": "stdout",
     "output_type": "stream",
     "text": [
      "Lower bound is:  -2.5799999999999996\n",
      "Upper bound is:  5.34\n"
     ]
    }
   ],
   "source": [
    "remove_column_outliers(df_sales, 'volume_sold_gallons')"
   ]
  },
  {
   "cell_type": "code",
   "execution_count": 17,
   "id": "269d47fe-d4bb-447a-8e90-410a87e6572b",
   "metadata": {},
   "outputs": [
    {
     "data": {
      "text/plain": [
       "(2478605, 24)"
      ]
     },
     "execution_count": 17,
     "metadata": {},
     "output_type": "execute_result"
    }
   ],
   "source": [
    "df_sales.shape"
   ]
  },
  {
   "cell_type": "code",
   "execution_count": 18,
   "id": "ec5c7ca9-a02a-4d19-b90e-ea6ff68557c5",
   "metadata": {},
   "outputs": [
    {
     "data": {
      "image/png": "[encoded data removed]",
      "text/plain": [
       "<Figure size 640x480 with 1 Axes>"
      ]
     },
     "metadata": {},
     "output_type": "display_data"
    }
   ],
   "source": [
    "boxplot2 = df_sales.boxplot(column=['volume_sold_gallons'])"
   ]
  },
  {
   "cell_type": "code",
   "execution_count": 19,
   "id": "4227b84c-a633-4ec2-8fd5-b306ca74b491",
   "metadata": {},
   "outputs": [
    {
     "name": "stdout",
     "output_type": "stream",
     "text": [
      "Lower bound is:  -3.0\n",
      "Upper bound is:  21.0\n"
     ]
    }
   ],
   "source": [
    "remove_column_outliers(df_sales, 'package_size')"
   ]
  },
  {
   "cell_type": "code",
   "execution_count": 20,
   "id": "9d6b4525-b7f2-4655-ab26-9b90b84f9f2e",
   "metadata": {},
   "outputs": [
    {
     "data": {
      "text/plain": [
       "(2209363, 24)"
      ]
     },
     "execution_count": 20,
     "metadata": {},
     "output_type": "execute_result"
    }
   ],
   "source": [
    "df_sales.shape"
   ]
  },
  {
   "cell_type": "code",
   "execution_count": 21,
   "id": "a11b0353-60b8-4a83-bb24-13c24c58dba9",
   "metadata": {},
   "outputs": [
    {
     "data": {
      "image/png": "[encoded data removed]",
      "text/plain": [
       "<Figure size 640x480 with 1 Axes>"
      ]
     },
     "metadata": {},
     "output_type": "display_data"
    }
   ],
   "source": [
    "boxplot2 = df_sales.boxplot(column=['package_size'])"
   ]
  },
  {
   "cell_type": "code",
   "execution_count": 22,
   "id": "0cfa9c55-be90-4dab-a1d8-39b4039480ab",
   "metadata": {},
   "outputs": [
    {
     "name": "stdout",
     "output_type": "stream",
     "text": [
      "Lower bound is:  -4.265000000000001\n",
      "Upper bound is:  25.775\n"
     ]
    }
   ],
   "source": [
    "remove_column_outliers(df_sales, 'state_bottle_cost')"
   ]
  },
  {
   "cell_type": "code",
   "execution_count": 23,
   "id": "d241ab8b-21b2-4433-84cc-c0768800408a",
   "metadata": {},
   "outputs": [
    {
     "data": {
      "text/plain": [
       "(2063417, 24)"
      ]
     },
     "execution_count": 23,
     "metadata": {},
     "output_type": "execute_result"
    }
   ],
   "source": [
    "df_sales.shape"
   ]
  },
  {
   "cell_type": "code",
   "execution_count": 24,
   "id": "9a5f0089-cfbc-4e77-b3a6-594a4c03bba2",
   "metadata": {},
   "outputs": [
    {
     "data": {
      "image/png": "[encoded data removed]",
      "text/plain": [
       "<Figure size 640x480 with 1 Axes>"
      ]
     },
     "metadata": {},
     "output_type": "display_data"
    }
   ],
   "source": [
    "boxplot2 = df_sales.boxplot(column=['state_bottle_cost'])"
   ]
  }
 ],
 "metadata": {
  "kernelspec": {
   "display_name": "Python 3 (ipykernel)",
   "language": "python",
   "name": "python3"
  },
  "language_info": {
   "codemirror_mode": {
    "name": "ipython",
    "version": 3
   },
   "file_extension": ".py",
   "mimetype": "text/x-python",
   "name": "python",
   "nbconvert_exporter": "python",
   "pygments_lexer": "ipython3",
   "version": "3.10.9"
  }
 },
 "nbformat": 4,
 "nbformat_minor": 5
}
